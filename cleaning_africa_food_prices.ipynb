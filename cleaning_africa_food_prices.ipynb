{
 "cells": [
  {
   "cell_type": "code",
   "execution_count": 4,
   "id": "d9bbe666-3618-429e-8456-3e506bc6beb8",
   "metadata": {},
   "outputs": [],
   "source": [
    "import numpy as np\n",
    "import pandas as pd"
   ]
  },
  {
   "cell_type": "code",
   "execution_count": 6,
   "id": "a993d98a-4af5-45d0-83fa-b9a1548dc003",
   "metadata": {},
   "outputs": [],
   "source": [
    "df = pd.read_csv(\"africa_food_prices.csv\")"
   ]
  },
  {
   "cell_type": "code",
   "execution_count": 7,
   "id": "62c3b63d-43b1-4f38-bed0-3011238fadbe",
   "metadata": {},
   "outputs": [
    {
     "data": {
      "text/html": [
       "<div>\n",
       "<style scoped>\n",
       "    .dataframe tbody tr th:only-of-type {\n",
       "        vertical-align: middle;\n",
       "    }\n",
       "\n",
       "    .dataframe tbody tr th {\n",
       "        vertical-align: top;\n",
       "    }\n",
       "\n",
       "    .dataframe thead th {\n",
       "        text-align: right;\n",
       "    }\n",
       "</style>\n",
       "<table border=\"1\" class=\"dataframe\">\n",
       "  <thead>\n",
       "    <tr style=\"text-align: right;\">\n",
       "      <th></th>\n",
       "      <th>Unnamed: 0</th>\n",
       "      <th>country_id</th>\n",
       "      <th>country</th>\n",
       "      <th>state_id</th>\n",
       "      <th>state</th>\n",
       "      <th>market_id</th>\n",
       "      <th>market</th>\n",
       "      <th>produce_id</th>\n",
       "      <th>produce</th>\n",
       "      <th>currency_id</th>\n",
       "      <th>currency</th>\n",
       "      <th>pt_id</th>\n",
       "      <th>market_type</th>\n",
       "      <th>um_unit_id</th>\n",
       "      <th>quantity</th>\n",
       "      <th>month</th>\n",
       "      <th>year</th>\n",
       "      <th>price</th>\n",
       "      <th>mp_commoditysource</th>\n",
       "    </tr>\n",
       "  </thead>\n",
       "  <tbody>\n",
       "    <tr>\n",
       "      <th>0</th>\n",
       "      <td>15427</td>\n",
       "      <td>4.0</td>\n",
       "      <td>Algeria</td>\n",
       "      <td>344</td>\n",
       "      <td>Alger</td>\n",
       "      <td>1794</td>\n",
       "      <td>Algiers</td>\n",
       "      <td>52</td>\n",
       "      <td>Rice - Retail</td>\n",
       "      <td>0.0</td>\n",
       "      <td>DZD</td>\n",
       "      <td>15</td>\n",
       "      <td>Retail</td>\n",
       "      <td>5</td>\n",
       "      <td>KG</td>\n",
       "      <td>4</td>\n",
       "      <td>2015</td>\n",
       "      <td>90.0</td>\n",
       "      <td>NaN</td>\n",
       "    </tr>\n",
       "    <tr>\n",
       "      <th>1</th>\n",
       "      <td>15428</td>\n",
       "      <td>4.0</td>\n",
       "      <td>Algeria</td>\n",
       "      <td>344</td>\n",
       "      <td>Alger</td>\n",
       "      <td>1794</td>\n",
       "      <td>Algiers</td>\n",
       "      <td>52</td>\n",
       "      <td>Rice - Retail</td>\n",
       "      <td>0.0</td>\n",
       "      <td>DZD</td>\n",
       "      <td>15</td>\n",
       "      <td>Retail</td>\n",
       "      <td>5</td>\n",
       "      <td>KG</td>\n",
       "      <td>5</td>\n",
       "      <td>2015</td>\n",
       "      <td>96.0</td>\n",
       "      <td>NaN</td>\n",
       "    </tr>\n",
       "    <tr>\n",
       "      <th>2</th>\n",
       "      <td>15429</td>\n",
       "      <td>4.0</td>\n",
       "      <td>Algeria</td>\n",
       "      <td>344</td>\n",
       "      <td>Alger</td>\n",
       "      <td>1794</td>\n",
       "      <td>Algiers</td>\n",
       "      <td>52</td>\n",
       "      <td>Rice - Retail</td>\n",
       "      <td>0.0</td>\n",
       "      <td>DZD</td>\n",
       "      <td>15</td>\n",
       "      <td>Retail</td>\n",
       "      <td>5</td>\n",
       "      <td>KG</td>\n",
       "      <td>6</td>\n",
       "      <td>2015</td>\n",
       "      <td>96.0</td>\n",
       "      <td>NaN</td>\n",
       "    </tr>\n",
       "    <tr>\n",
       "      <th>3</th>\n",
       "      <td>15430</td>\n",
       "      <td>4.0</td>\n",
       "      <td>Algeria</td>\n",
       "      <td>344</td>\n",
       "      <td>Alger</td>\n",
       "      <td>1794</td>\n",
       "      <td>Algiers</td>\n",
       "      <td>52</td>\n",
       "      <td>Rice - Retail</td>\n",
       "      <td>0.0</td>\n",
       "      <td>DZD</td>\n",
       "      <td>15</td>\n",
       "      <td>Retail</td>\n",
       "      <td>5</td>\n",
       "      <td>KG</td>\n",
       "      <td>7</td>\n",
       "      <td>2015</td>\n",
       "      <td>83.0</td>\n",
       "      <td>NaN</td>\n",
       "    </tr>\n",
       "    <tr>\n",
       "      <th>4</th>\n",
       "      <td>15431</td>\n",
       "      <td>4.0</td>\n",
       "      <td>Algeria</td>\n",
       "      <td>344</td>\n",
       "      <td>Alger</td>\n",
       "      <td>1794</td>\n",
       "      <td>Algiers</td>\n",
       "      <td>52</td>\n",
       "      <td>Rice - Retail</td>\n",
       "      <td>0.0</td>\n",
       "      <td>DZD</td>\n",
       "      <td>15</td>\n",
       "      <td>Retail</td>\n",
       "      <td>5</td>\n",
       "      <td>KG</td>\n",
       "      <td>8</td>\n",
       "      <td>2015</td>\n",
       "      <td>80.0</td>\n",
       "      <td>NaN</td>\n",
       "    </tr>\n",
       "  </tbody>\n",
       "</table>\n",
       "</div>"
      ],
      "text/plain": [
       "   Unnamed: 0  country_id  country  state_id  state  market_id   market  \\\n",
       "0       15427         4.0  Algeria       344  Alger       1794  Algiers   \n",
       "1       15428         4.0  Algeria       344  Alger       1794  Algiers   \n",
       "2       15429         4.0  Algeria       344  Alger       1794  Algiers   \n",
       "3       15430         4.0  Algeria       344  Alger       1794  Algiers   \n",
       "4       15431         4.0  Algeria       344  Alger       1794  Algiers   \n",
       "\n",
       "   produce_id        produce  currency_id currency  pt_id market_type  \\\n",
       "0          52  Rice - Retail          0.0      DZD     15      Retail   \n",
       "1          52  Rice - Retail          0.0      DZD     15      Retail   \n",
       "2          52  Rice - Retail          0.0      DZD     15      Retail   \n",
       "3          52  Rice - Retail          0.0      DZD     15      Retail   \n",
       "4          52  Rice - Retail          0.0      DZD     15      Retail   \n",
       "\n",
       "   um_unit_id quantity  month  year  price  mp_commoditysource  \n",
       "0           5       KG      4  2015   90.0                 NaN  \n",
       "1           5       KG      5  2015   96.0                 NaN  \n",
       "2           5       KG      6  2015   96.0                 NaN  \n",
       "3           5       KG      7  2015   83.0                 NaN  \n",
       "4           5       KG      8  2015   80.0                 NaN  "
      ]
     },
     "execution_count": 7,
     "metadata": {},
     "output_type": "execute_result"
    }
   ],
   "source": [
    "df.head() #displaying the first few rows of the data"
   ]
  },
  {
   "cell_type": "code",
   "execution_count": 8,
   "id": "999eef84-07bc-4bfe-8d1b-45fcd74f11d4",
   "metadata": {},
   "outputs": [
    {
     "data": {
      "text/plain": [
       "956779"
      ]
     },
     "execution_count": 8,
     "metadata": {},
     "output_type": "execute_result"
    }
   ],
   "source": [
    "df.shape[0]"
   ]
  },
  {
   "cell_type": "code",
   "execution_count": 9,
   "id": "86386a33-a1cc-4988-921b-d39fea34db29",
   "metadata": {},
   "outputs": [
    {
     "data": {
      "text/plain": [
       "(956779, 19)"
      ]
     },
     "execution_count": 9,
     "metadata": {},
     "output_type": "execute_result"
    }
   ],
   "source": [
    "df.shape #checking the shape of the file (its rows[left] and columns [right])"
   ]
  },
  {
   "cell_type": "code",
   "execution_count": 10,
   "id": "1eb99e10-a96c-45c2-a2dc-108e952452aa",
   "metadata": {},
   "outputs": [
    {
     "data": {
      "text/plain": [
       "Index(['Unnamed: 0', 'country_id', 'country', 'state_id', 'state', 'market_id',\n",
       "       'market', 'produce_id', 'produce', 'currency_id', 'currency', 'pt_id',\n",
       "       'market_type', 'um_unit_id', 'quantity', 'month', 'year', 'price',\n",
       "       'mp_commoditysource'],\n",
       "      dtype='object')"
      ]
     },
     "execution_count": 10,
     "metadata": {},
     "output_type": "execute_result"
    }
   ],
   "source": [
    "df.columns # checking the column names of the file"
   ]
  },
  {
   "cell_type": "code",
   "execution_count": 11,
   "id": "c1fe98e8-782a-4839-9103-7e188ac8d953",
   "metadata": {},
   "outputs": [
    {
     "name": "stdout",
     "output_type": "stream",
     "text": [
      "<class 'pandas.core.frame.DataFrame'>\n",
      "RangeIndex: 956779 entries, 0 to 956778\n",
      "Data columns (total 19 columns):\n",
      " #   Column              Non-Null Count   Dtype  \n",
      "---  ------              --------------   -----  \n",
      " 0   Unnamed: 0          956779 non-null  int64  \n",
      " 1   country_id          956779 non-null  float64\n",
      " 2   country             956779 non-null  object \n",
      " 3   state_id            956779 non-null  int64  \n",
      " 4   state               830101 non-null  object \n",
      " 5   market_id           956779 non-null  int64  \n",
      " 6   market              956779 non-null  object \n",
      " 7   produce_id          956779 non-null  int64  \n",
      " 8   produce             956779 non-null  object \n",
      " 9   currency_id         956779 non-null  float64\n",
      " 10  currency            956779 non-null  object \n",
      " 11  pt_id               956779 non-null  int64  \n",
      " 12  market_type         956779 non-null  object \n",
      " 13  um_unit_id          956779 non-null  int64  \n",
      " 14  quantity            956779 non-null  object \n",
      " 15  month               956779 non-null  int64  \n",
      " 16  year                956779 non-null  int64  \n",
      " 17  price               956779 non-null  float64\n",
      " 18  mp_commoditysource  0 non-null       float64\n",
      "dtypes: float64(4), int64(8), object(7)\n",
      "memory usage: 138.7+ MB\n"
     ]
    }
   ],
   "source": [
    "df.info()"
   ]
  },
  {
   "cell_type": "code",
   "execution_count": 12,
   "id": "c1ca8774-72be-4212-91bd-d672fd4078c0",
   "metadata": {},
   "outputs": [
    {
     "data": {
      "text/plain": [
       "Unnamed: 0                 0\n",
       "country_id                 0\n",
       "country                    0\n",
       "state_id                   0\n",
       "state                 126678\n",
       "market_id                  0\n",
       "market                     0\n",
       "produce_id                 0\n",
       "produce                    0\n",
       "currency_id                0\n",
       "currency                   0\n",
       "pt_id                      0\n",
       "market_type                0\n",
       "um_unit_id                 0\n",
       "quantity                   0\n",
       "month                      0\n",
       "year                       0\n",
       "price                      0\n",
       "mp_commoditysource    956779\n",
       "dtype: int64"
      ]
     },
     "execution_count": 12,
     "metadata": {},
     "output_type": "execute_result"
    }
   ],
   "source": [
    "df.isnull().sum() #Checking for any missig values"
   ]
  },
  {
   "cell_type": "markdown",
   "id": "4fbf97e0-1487-46aa-8f3c-ea0aebabc693",
   "metadata": {},
   "source": [
    "# Handling missing values"
   ]
  },
  {
   "cell_type": "code",
   "execution_count": 13,
   "id": "70d108b2-4861-4ac0-a815-bf62b02b148b",
   "metadata": {},
   "outputs": [
    {
     "data": {
      "text/html": [
       "<div>\n",
       "<style scoped>\n",
       "    .dataframe tbody tr th:only-of-type {\n",
       "        vertical-align: middle;\n",
       "    }\n",
       "\n",
       "    .dataframe tbody tr th {\n",
       "        vertical-align: top;\n",
       "    }\n",
       "\n",
       "    .dataframe thead th {\n",
       "        text-align: right;\n",
       "    }\n",
       "</style>\n",
       "<table border=\"1\" class=\"dataframe\">\n",
       "  <thead>\n",
       "    <tr style=\"text-align: right;\">\n",
       "      <th></th>\n",
       "      <th>Unnamed: 0</th>\n",
       "      <th>country_id</th>\n",
       "      <th>country</th>\n",
       "      <th>state_id</th>\n",
       "      <th>state</th>\n",
       "      <th>market_id</th>\n",
       "      <th>market</th>\n",
       "      <th>produce_id</th>\n",
       "      <th>produce</th>\n",
       "      <th>currency_id</th>\n",
       "      <th>currency</th>\n",
       "      <th>pt_id</th>\n",
       "      <th>market_type</th>\n",
       "      <th>um_unit_id</th>\n",
       "      <th>quantity</th>\n",
       "      <th>month</th>\n",
       "      <th>year</th>\n",
       "      <th>price</th>\n",
       "      <th>mp_commoditysource</th>\n",
       "    </tr>\n",
       "  </thead>\n",
       "  <tbody>\n",
       "  </tbody>\n",
       "</table>\n",
       "</div>"
      ],
      "text/plain": [
       "Empty DataFrame\n",
       "Columns: [Unnamed: 0, country_id, country, state_id, state, market_id, market, produce_id, produce, currency_id, currency, pt_id, market_type, um_unit_id, quantity, month, year, price, mp_commoditysource]\n",
       "Index: []"
      ]
     },
     "execution_count": 13,
     "metadata": {},
     "output_type": "execute_result"
    }
   ],
   "source": [
    "df.dropna() #drops the rows with the missing values"
   ]
  },
  {
   "cell_type": "code",
   "execution_count": 14,
   "id": "62fc8cc5-75f8-4d2d-8f61-c74a7b0523e0",
   "metadata": {},
   "outputs": [],
   "source": [
    "df['state'] = df['state'].fillna(\"null\")\n",
    "#replacing the values null values in with \"null\""
   ]
  },
  {
   "cell_type": "code",
   "execution_count": 15,
   "id": "15117d2e-dc26-4efe-ab01-f3ce37785c9c",
   "metadata": {},
   "outputs": [],
   "source": [
    "df.drop_duplicates(inplace=True) #Removing duplicates"
   ]
  },
  {
   "cell_type": "markdown",
   "id": "d5ac48c0-fc53-42d4-83ab-1be9d8b6c9be",
   "metadata": {},
   "source": [
    "# Removing unwanted columns"
   ]
  },
  {
   "cell_type": "code",
   "execution_count": 16,
   "id": "3add54fb-67ed-44e8-bec8-ee0a67c23067",
   "metadata": {},
   "outputs": [],
   "source": [
    "df = df.drop('mp_commoditysource', axis=1) #removes the 'mp_commoditysource' column"
   ]
  },
  {
   "cell_type": "code",
   "execution_count": 17,
   "id": "1ea97aaa-f8ea-4244-ba46-a9ed38ff4719",
   "metadata": {},
   "outputs": [
    {
     "data": {
      "text/plain": [
       "array(['Algeria', 'Angola', 'Benin', 'Burundi', 'Cameroon', 'Cape Verde',\n",
       "       'Central African Republic', 'Chad', 'Congo', 'Djibouti', 'Egypt',\n",
       "       'Eritrea', 'Ethiopia', 'Gabon', 'Gambia', 'Ghana', 'Guinea',\n",
       "       'Guinea-Bissau', 'Kenya', 'Lesotho', 'Liberia', 'Libya',\n",
       "       'Madagascar', 'Malawi', 'Mali', 'Mauritania', 'Mozambique',\n",
       "       'Namibia', 'Niger', 'Nigeria', 'Rwanda', 'Senegal', 'Sierra Leone',\n",
       "       'Somalia', 'South Africa', 'South Sudan', 'Sudan', 'Swaziland',\n",
       "       'Togo', 'Uganda', 'Zambia', 'Zimbabwe'], dtype=object)"
      ]
     },
     "execution_count": 17,
     "metadata": {},
     "output_type": "execute_result"
    }
   ],
   "source": [
    "df['country'].unique() #Gets only one instance of every country available in the data."
   ]
  },
  {
   "cell_type": "code",
   "execution_count": 18,
   "id": "4dd6ab66-67db-4237-a970-720ed6759d19",
   "metadata": {},
   "outputs": [
    {
     "data": {
      "text/plain": [
       "array([0.])"
      ]
     },
     "execution_count": 18,
     "metadata": {},
     "output_type": "execute_result"
    }
   ],
   "source": [
    "df['currency_id'].unique() #After observing that the currency_id only has 0.0 in all its rows\n",
    "# I have decided to remove it"
   ]
  },
  {
   "cell_type": "code",
   "execution_count": 19,
   "id": "d594c721-03ea-4b49-bcb8-2057fc40abf2",
   "metadata": {},
   "outputs": [],
   "source": [
    "df = df.drop('currency_id', axis=1) #removing the currency_id"
   ]
  },
  {
   "cell_type": "code",
   "execution_count": 20,
   "id": "6c0e0abf-b73f-490a-81ba-8ebf24a85580",
   "metadata": {},
   "outputs": [],
   "source": [
    "#looking at the Unnamed column, I fail to see its significance so, I'll go ahead and drop it\n",
    "df = df.drop('Unnamed: 0', axis=1)"
   ]
  },
  {
   "cell_type": "code",
   "execution_count": 21,
   "id": "41d8a874-3b3f-4266-b7bf-7bdf649d682e",
   "metadata": {},
   "outputs": [
    {
     "name": "stdout",
     "output_type": "stream",
     "text": [
      "['country_id', 'country', 'state_id', 'state', 'market_id', 'market', 'produce_id', 'produce', 'currency', 'pt_id', 'market_type', 'um_unit_id', 'quantity', 'month', 'year', 'price']\n"
     ]
    }
   ],
   "source": [
    "columns_list = df.columns.tolist()\n",
    "print(columns_list)"
   ]
  },
  {
   "cell_type": "markdown",
   "id": "2a7894a1-9730-41f5-8abd-8a268ca902b5",
   "metadata": {},
   "source": [
    "# Changing data types"
   ]
  },
  {
   "cell_type": "code",
   "execution_count": 22,
   "id": "e8e4dbb4-1b6b-4a49-b764-03463e109c7d",
   "metadata": {},
   "outputs": [],
   "source": [
    "# The month column is supposed to hold a text and not a number, so we would have to change its data type before changing its values"
   ]
  },
  {
   "cell_type": "code",
   "execution_count": 23,
   "id": "255fc61b-7835-4a33-bf7a-43c199c77fec",
   "metadata": {},
   "outputs": [],
   "source": [
    "df['month'] = df['month'].astype(str)"
   ]
  },
  {
   "cell_type": "code",
   "execution_count": 24,
   "id": "a85989e5-a635-4db3-b061-d6eb62efd60e",
   "metadata": {},
   "outputs": [],
   "source": [
    "month_map = {\n",
    "    '1': 'Jan', '2': 'Feb', '3': 'Mar', '4': 'April',\n",
    "    '5': 'May', '6': 'June', '7': 'July', '8': 'Aug',\n",
    "    '9': 'Sept', '10': 'Oct', '11': 'Nov', '12': 'Dec'\n",
    "}\n",
    "\n",
    "df['month'] = df['month'].map(month_map)"
   ]
  },
  {
   "cell_type": "code",
   "execution_count": 25,
   "id": "482e550c-6324-4c9a-a5b5-201fcfef7fbc",
   "metadata": {},
   "outputs": [],
   "source": [
    "# I am satisfied with cleaning this data. I would now load it and begin building my application"
   ]
  },
  {
   "cell_type": "code",
   "execution_count": 21,
   "id": "96f3fde9-499a-4144-b883-89ebb91b9252",
   "metadata": {},
   "outputs": [],
   "source": [
    "df.to_csv('cleaned_data.csv', index=False)"
   ]
  },
  {
   "cell_type": "code",
   "execution_count": 27,
   "id": "4e650fc8-b030-4fcb-b52e-0551716ee944",
   "metadata": {},
   "outputs": [
    {
     "name": "stdout",
     "output_type": "stream",
     "text": [
      "0         April\n",
      "1           May\n",
      "2          June\n",
      "3          July\n",
      "4           Aug\n",
      "          ...  \n",
      "956774     June\n",
      "956775     June\n",
      "956776     June\n",
      "956777     June\n",
      "956778     June\n",
      "Name: month, Length: 956779, dtype: object\n"
     ]
    }
   ],
   "source": [
    "print(df['month'])"
   ]
  },
  {
   "cell_type": "code",
   "execution_count": null,
   "id": "d678a391-2523-4e4d-9b81-2d2b0932d41a",
   "metadata": {},
   "outputs": [],
   "source": []
  }
 ],
 "metadata": {
  "kernelspec": {
   "display_name": "Python 3 (ipykernel)",
   "language": "python",
   "name": "python3"
  },
  "language_info": {
   "codemirror_mode": {
    "name": "ipython",
    "version": 3
   },
   "file_extension": ".py",
   "mimetype": "text/x-python",
   "name": "python",
   "nbconvert_exporter": "python",
   "pygments_lexer": "ipython3",
   "version": "3.11.7"
  }
 },
 "nbformat": 4,
 "nbformat_minor": 5
}
